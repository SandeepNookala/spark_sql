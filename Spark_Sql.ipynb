{
  "nbformat": 4,
  "nbformat_minor": 0,
  "metadata": {
    "colab": {
      "provenance": [],
      "collapsed_sections": [
        "lKS3ZMpAtmbp",
        "iaH9QBnwBJcz",
        "0a-Z0FTGBdeY",
        "V7QAPwXOFvpi",
        "Y2rQqhcMJb6o",
        "UFvQKRxmKjjJ",
        "9198F5-8qsrS",
        "pZdW33UcPWHb",
        "4HyIuqUu4qo7",
        "f-eXnY_qsjKt",
        "9aF54gIlsWsf",
        "yQUM5OqEtRHt"
      ]
    },
    "kernelspec": {
      "name": "python3",
      "display_name": "Python 3"
    },
    "language_info": {
      "name": "python"
    }
  },
  "cells": [
    {
      "cell_type": "markdown",
      "source": [
        "# pyspark installation"
      ],
      "metadata": {
        "id": "lKS3ZMpAtmbp"
      }
    },
    {
      "cell_type": "code",
      "source": [
        "!pip install pyspark py4j"
      ],
      "metadata": {
        "colab": {
          "base_uri": "https://localhost:8080/"
        },
        "id": "hIQQSK0v_eAH",
        "outputId": "eb2f5bcd-a52f-4dbc-efb8-9e075912b6db"
      },
      "execution_count": null,
      "outputs": [
        {
          "output_type": "stream",
          "name": "stdout",
          "text": [
            "Looking in indexes: https://pypi.org/simple, https://us-python.pkg.dev/colab-wheels/public/simple/\n",
            "Collecting pyspark\n",
            "  Downloading pyspark-3.3.2.tar.gz (281.4 MB)\n",
            "\u001b[2K     \u001b[90m━━━━━━━━━━━━━━━━━━━━━━━━━━━━━━━━━━━━━━━\u001b[0m \u001b[32m281.4/281.4 MB\u001b[0m \u001b[31m4.3 MB/s\u001b[0m eta \u001b[36m0:00:00\u001b[0m\n",
            "\u001b[?25h  Preparing metadata (setup.py) ... \u001b[?25l\u001b[?25hdone\n",
            "Collecting py4j\n",
            "  Downloading py4j-0.10.9.7-py2.py3-none-any.whl (200 kB)\n",
            "\u001b[2K     \u001b[90m━━━━━━━━━━━━━━━━━━━━━━━━━━━━━━━━━━━━━━\u001b[0m \u001b[32m200.5/200.5 KB\u001b[0m \u001b[31m25.3 MB/s\u001b[0m eta \u001b[36m0:00:00\u001b[0m\n",
            "\u001b[?25h  Downloading py4j-0.10.9.5-py2.py3-none-any.whl (199 kB)\n",
            "\u001b[2K     \u001b[90m━━━━━━━━━━━━━━━━━━━━━━━━━━━━━━━━━━━━━━\u001b[0m \u001b[32m199.7/199.7 KB\u001b[0m \u001b[31m21.2 MB/s\u001b[0m eta \u001b[36m0:00:00\u001b[0m\n",
            "\u001b[?25hBuilding wheels for collected packages: pyspark\n",
            "  Building wheel for pyspark (setup.py) ... \u001b[?25l\u001b[?25hdone\n",
            "  Created wheel for pyspark: filename=pyspark-3.3.2-py2.py3-none-any.whl size=281824025 sha256=03717dd654b9fe1f920ab14991e2988d3b51436818278d8f62fa47d548019c33\n",
            "  Stored in directory: /root/.cache/pip/wheels/6c/e3/9b/0525ce8a69478916513509d43693511463c6468db0de237c86\n",
            "Successfully built pyspark\n",
            "Installing collected packages: py4j, pyspark\n",
            "Successfully installed py4j-0.10.9.5 pyspark-3.3.2\n"
          ]
        }
      ]
    },
    {
      "cell_type": "markdown",
      "source": [
        " # Create spark session with hive enabled"
      ],
      "metadata": {
        "id": "8KYiyQ3iDOjK"
      }
    },
    {
      "cell_type": "code",
      "source": [
        "from os.path import abspath\n",
        "\n",
        "from pyspark.sql import SparkSession\n",
        "\n",
        "# warehouse_location\n",
        "warehouse_location = abspath('hive-warehouse')\n",
        "\n",
        "# Create spark session with hive enabled\n",
        "spark = SparkSession.builder.master('local').appName('sql').config('spark.sql.warehouse.dir',warehouse_location).enableHiveSupport().config(\"hive.exec.dynamic.partition\",\"true\").config(\"hive.exec.dynamic.partition.mode\",\"nonstrict\").config(\"spark.sql.legacy.allowNonEmptyLocationInCTAS\",\"true\").getOrCreate()\n",
        "\n",
        "spark\n",
        "\n"
      ],
      "metadata": {
        "id": "8zxPb3qx_lsx",
        "colab": {
          "base_uri": "https://localhost:8080/"
        },
        "outputId": "56f68469-d182-44b4-bdc8-9fb4f9a5f6b6"
      },
      "execution_count": null,
      "outputs": [
        {
          "output_type": "execute_result",
          "data": {
            "text/plain": [
              "<pyspark.sql.session.SparkSession at 0x7f1dc58f8160>"
            ],
            "text/html": [
              "\n",
              "            <div>\n",
              "                <p><b>SparkSession - hive</b></p>\n",
              "                \n",
              "        <div>\n",
              "            <p><b>SparkContext</b></p>\n",
              "\n",
              "            <p><a href=\"http://6296c4478daa:4040\">Spark UI</a></p>\n",
              "\n",
              "            <dl>\n",
              "              <dt>Version</dt>\n",
              "                <dd><code>v3.3.2</code></dd>\n",
              "              <dt>Master</dt>\n",
              "                <dd><code>local</code></dd>\n",
              "              <dt>AppName</dt>\n",
              "                <dd><code>demo</code></dd>\n",
              "            </dl>\n",
              "        </div>\n",
              "        \n",
              "            </div>\n",
              "        "
            ]
          },
          "metadata": {},
          "execution_count": 2
        }
      ]
    },
    {
      "cell_type": "markdown",
      "source": [
        "# show databases"
      ],
      "metadata": {
        "id": "iaH9QBnwBJcz"
      }
    },
    {
      "cell_type": "code",
      "source": [
        "spark.sql('show databases').show()"
      ],
      "metadata": {
        "id": "1Y4pd-_CA1xW",
        "colab": {
          "base_uri": "https://localhost:8080/"
        },
        "outputId": "8ae7877b-e468-4774-c3f1-96db5404df72"
      },
      "execution_count": null,
      "outputs": [
        {
          "output_type": "stream",
          "name": "stdout",
          "text": [
            "+---------+\n",
            "|namespace|\n",
            "+---------+\n",
            "|  default|\n",
            "+---------+\n",
            "\n"
          ]
        }
      ]
    },
    {
      "cell_type": "markdown",
      "source": [
        "# creating new database"
      ],
      "metadata": {
        "id": "oQt6VbE6BW4Y"
      }
    },
    {
      "cell_type": "code",
      "source": [
        "spark.sql('create database if not exists test3').show()"
      ],
      "metadata": {
        "id": "nf1Z-XSgA6HE",
        "colab": {
          "base_uri": "https://localhost:8080/"
        },
        "outputId": "63a26253-bc29-4ff4-d419-7bdf756b054a"
      },
      "execution_count": null,
      "outputs": [
        {
          "output_type": "stream",
          "name": "stdout",
          "text": [
            "++\n",
            "||\n",
            "++\n",
            "++\n",
            "\n"
          ]
        }
      ]
    },
    {
      "cell_type": "markdown",
      "source": [
        "# creating table using specified file format:"
      ],
      "metadata": {
        "id": "0a-Z0FTGBdeY"
      }
    },
    {
      "cell_type": "code",
      "source": [
        "spark.sql('create table if not exists test3.Employee_csv (Id Int ,Name string ,loc string) using csv')"
      ],
      "metadata": {
        "id": "WQH5DJEoBEuG",
        "colab": {
          "base_uri": "https://localhost:8080/"
        },
        "outputId": "28200e39-5fd6-45b7-8d4a-68b3c1653946"
      },
      "execution_count": null,
      "outputs": [
        {
          "output_type": "execute_result",
          "data": {
            "text/plain": [
              "DataFrame[]"
            ]
          },
          "metadata": {},
          "execution_count": 5
        }
      ]
    },
    {
      "cell_type": "code",
      "source": [
        "# DDL of the table\n",
        "\n",
        "spark.sql('show create table test3.Employee_csv ').show(truncate = False)"
      ],
      "metadata": {
        "id": "X22MSds99z2T",
        "colab": {
          "base_uri": "https://localhost:8080/"
        },
        "outputId": "9bde2c00-f2ff-47bd-b692-4d2fefd24ae6"
      },
      "execution_count": null,
      "outputs": [
        {
          "output_type": "stream",
          "name": "stdout",
          "text": [
            "+----------------------------------------------------------------------------------------+\n",
            "|createtab_stmt                                                                          |\n",
            "+----------------------------------------------------------------------------------------+\n",
            "|CREATE TABLE test3.employee_csv (\\n  Id INT,\\n  Name STRING,\\n  loc STRING)\\nUSING csv\\n|\n",
            "+----------------------------------------------------------------------------------------+\n",
            "\n"
          ]
        }
      ]
    },
    {
      "cell_type": "code",
      "source": [
        "# insert data into table\n",
        "spark.sql(\"insert into test3.employee_csv values(1,'Satish','hyd')\")"
      ],
      "metadata": {
        "id": "YC_l4S8l9SxO",
        "colab": {
          "base_uri": "https://localhost:8080/"
        },
        "outputId": "ea7c9e33-caf4-4adc-cc57-74a2878b1c80"
      },
      "execution_count": null,
      "outputs": [
        {
          "output_type": "execute_result",
          "data": {
            "text/plain": [
              "DataFrame[]"
            ]
          },
          "metadata": {},
          "execution_count": 7
        }
      ]
    },
    {
      "cell_type": "code",
      "source": [
        "ls /content/hive-warehouse/test3.db/employee_csv/"
      ],
      "metadata": {
        "colab": {
          "base_uri": "https://localhost:8080/"
        },
        "id": "qQ_jHw718D-7",
        "outputId": "a4b9eddd-3fd7-4220-8b42-50842810547f"
      },
      "execution_count": null,
      "outputs": [
        {
          "output_type": "stream",
          "name": "stdout",
          "text": [
            "part-00000-00cefcd9-7160-44fc-9530-15c0bb8dea45-c000.csv  _SUCCESS\n"
          ]
        }
      ]
    },
    {
      "cell_type": "code",
      "source": [
        "# show table\n",
        "spark.sql(\"select * from test3.employee_csv \").show()"
      ],
      "metadata": {
        "colab": {
          "base_uri": "https://localhost:8080/"
        },
        "id": "nDEnQeKS_L5V",
        "outputId": "da177d82-9e34-4d43-98c2-27f661228425"
      },
      "execution_count": null,
      "outputs": [
        {
          "output_type": "stream",
          "name": "stdout",
          "text": [
            "+---+------+---+\n",
            "| Id|  Name|loc|\n",
            "+---+------+---+\n",
            "|  1|Satish|hyd|\n",
            "+---+------+---+\n",
            "\n"
          ]
        }
      ]
    },
    {
      "cell_type": "markdown",
      "source": [
        "# show tables in database"
      ],
      "metadata": {
        "id": "V7QAPwXOFvpi"
      }
    },
    {
      "cell_type": "code",
      "source": [
        "spark.sql('show tables in test3').show()"
      ],
      "metadata": {
        "id": "C9zHrP_2B9K2",
        "colab": {
          "base_uri": "https://localhost:8080/"
        },
        "outputId": "7f8fd7e7-3ef0-4804-ef35-dc3d71ab6ddf"
      },
      "execution_count": null,
      "outputs": [
        {
          "output_type": "stream",
          "name": "stdout",
          "text": [
            "+---------+------------+-----------+\n",
            "|namespace|   tableName|isTemporary|\n",
            "+---------+------------+-----------+\n",
            "|    test3|employee_csv|      false|\n",
            "+---------+------------+-----------+\n",
            "\n"
          ]
        }
      ]
    },
    {
      "cell_type": "markdown",
      "source": [
        "# describe database"
      ],
      "metadata": {
        "id": "Y2rQqhcMJb6o"
      }
    },
    {
      "cell_type": "code",
      "source": [
        "spark.sql(\"describe database test3\" ).show(truncate = False)"
      ],
      "metadata": {
        "colab": {
          "base_uri": "https://localhost:8080/"
        },
        "id": "8-Epmu5nIyfG",
        "outputId": "d9c4ca2e-b797-4d8e-d0e9-c02cab7bb67f"
      },
      "execution_count": null,
      "outputs": [
        {
          "output_type": "stream",
          "name": "stdout",
          "text": [
            "+--------------+-------------------------------------+\n",
            "|info_name     |info_value                           |\n",
            "+--------------+-------------------------------------+\n",
            "|Namespace Name|test3                                |\n",
            "|Comment       |                                     |\n",
            "|Location      |file:/content/hive-warehouse/test3.db|\n",
            "|Owner         |root                                 |\n",
            "+--------------+-------------------------------------+\n",
            "\n"
          ]
        }
      ]
    },
    {
      "cell_type": "markdown",
      "source": [
        "# create and descibe database in specified location"
      ],
      "metadata": {
        "id": "UFvQKRxmKjjJ"
      }
    },
    {
      "cell_type": "code",
      "source": [
        "spark.sql(\"create database if not exists sandeep location '/content/ext_db'\")"
      ],
      "metadata": {
        "colab": {
          "base_uri": "https://localhost:8080/"
        },
        "id": "zI1U3rxVLFAc",
        "outputId": "d7b8b570-9483-4a37-c803-1ef2bd936a54"
      },
      "execution_count": null,
      "outputs": [
        {
          "output_type": "execute_result",
          "data": {
            "text/plain": [
              "DataFrame[]"
            ]
          },
          "metadata": {},
          "execution_count": 12
        }
      ]
    },
    {
      "cell_type": "code",
      "source": [
        "spark.sql(\"describe database sandeep\").show(truncate = False)"
      ],
      "metadata": {
        "colab": {
          "base_uri": "https://localhost:8080/"
        },
        "id": "tXWmtWBWLaTP",
        "outputId": "8d371c2b-0b91-48f3-d67a-8d10146988f5"
      },
      "execution_count": null,
      "outputs": [
        {
          "output_type": "stream",
          "name": "stdout",
          "text": [
            "+--------------+--------------------+\n",
            "|info_name     |info_value          |\n",
            "+--------------+--------------------+\n",
            "|Namespace Name|sandeep             |\n",
            "|Comment       |                    |\n",
            "|Location      |file:/content/ext_db|\n",
            "|Owner         |root                |\n",
            "+--------------+--------------------+\n",
            "\n"
          ]
        }
      ]
    },
    {
      "cell_type": "markdown",
      "source": [
        "# internal table \n",
        "\n",
        "internal table /managed table -- default location (user/hive/warehouse/db/table_name)"
      ],
      "metadata": {
        "id": "9198F5-8qsrS"
      }
    },
    {
      "cell_type": "code",
      "source": [
        "\n",
        "\n",
        "spark.sql(\"create table if not exists student_int(id int ,Name string ,rollno int) \")"
      ],
      "metadata": {
        "colab": {
          "base_uri": "https://localhost:8080/"
        },
        "id": "teqb7fyBLyku",
        "outputId": "c56dc22a-4f45-452e-fdf6-536b6249c490"
      },
      "execution_count": null,
      "outputs": [
        {
          "output_type": "execute_result",
          "data": {
            "text/plain": [
              "DataFrame[]"
            ]
          },
          "metadata": {},
          "execution_count": 14
        }
      ]
    },
    {
      "cell_type": "code",
      "source": [
        "spark.sql(\"insert into student_int values(1,'sandeep',0382)\")"
      ],
      "metadata": {
        "colab": {
          "base_uri": "https://localhost:8080/"
        },
        "id": "zUl8k56wNkNw",
        "outputId": "10b62737-4a83-427e-cde1-6f06d01dffe9"
      },
      "execution_count": null,
      "outputs": [
        {
          "output_type": "execute_result",
          "data": {
            "text/plain": [
              "DataFrame[]"
            ]
          },
          "metadata": {},
          "execution_count": 15
        }
      ]
    },
    {
      "cell_type": "code",
      "source": [
        "spark.sql(\"insert into table student_int values(2,'satish',0561)\")"
      ],
      "metadata": {
        "colab": {
          "base_uri": "https://localhost:8080/"
        },
        "id": "xWSRz3n8vXNP",
        "outputId": "a100e050-bf35-42d0-e4a4-2bd080588d31"
      },
      "execution_count": null,
      "outputs": [
        {
          "output_type": "execute_result",
          "data": {
            "text/plain": [
              "DataFrame[]"
            ]
          },
          "metadata": {},
          "execution_count": 16
        }
      ]
    },
    {
      "cell_type": "code",
      "source": [
        "spark.sql(\"select * from student_int\").show(truncate = False)"
      ],
      "metadata": {
        "colab": {
          "base_uri": "https://localhost:8080/"
        },
        "id": "kukZDZfAO5Fx",
        "outputId": "5a9176a5-c10e-49b2-afbf-b9c1b8e3d90e"
      },
      "execution_count": null,
      "outputs": [
        {
          "output_type": "stream",
          "name": "stdout",
          "text": [
            "+---+-------+------+\n",
            "|id |Name   |rollno|\n",
            "+---+-------+------+\n",
            "|2  |satish |561   |\n",
            "|1  |sandeep|382   |\n",
            "+---+-------+------+\n",
            "\n"
          ]
        }
      ]
    },
    {
      "cell_type": "code",
      "source": [
        "spark.sql(\"show create table student_int\").show(truncate = False)"
      ],
      "metadata": {
        "colab": {
          "base_uri": "https://localhost:8080/"
        },
        "id": "0zQh0zrp0Wt5",
        "outputId": "882bb61d-6b53-4e28-e13b-6dced4573884"
      },
      "execution_count": null,
      "outputs": [
        {
          "output_type": "stream",
          "name": "stdout",
          "text": [
            "+------------------------------------------------------------------------------------------------------------------------------------------------------+\n",
            "|createtab_stmt                                                                                                                                        |\n",
            "+------------------------------------------------------------------------------------------------------------------------------------------------------+\n",
            "|CREATE TABLE default.student_int (\\n  id INT,\\n  Name STRING,\\n  rollno INT)\\nUSING text\\nTBLPROPERTIES (\\n  'transient_lastDdlTime' = '1678688136')\\n|\n",
            "+------------------------------------------------------------------------------------------------------------------------------------------------------+\n",
            "\n"
          ]
        }
      ]
    },
    {
      "cell_type": "markdown",
      "source": [
        "# External table creation\n",
        "\n",
        "\n",
        "1. can create external table by using location\n",
        "2. can create external table by using external key word location\n",
        "\n"
      ],
      "metadata": {
        "id": "pZdW33UcPWHb"
      }
    },
    {
      "cell_type": "code",
      "source": [
        "spark.sql(\"create table student_ext(id int ,name string ,rollno int) location '/content/External/student_ext'\")"
      ],
      "metadata": {
        "colab": {
          "base_uri": "https://localhost:8080/"
        },
        "id": "pzWEu2oXYIyx",
        "outputId": "0196cc77-b22c-44f0-cb66-f9691d0709da"
      },
      "execution_count": null,
      "outputs": [
        {
          "output_type": "execute_result",
          "data": {
            "text/plain": [
              "DataFrame[]"
            ]
          },
          "metadata": {},
          "execution_count": 19
        }
      ]
    },
    {
      "cell_type": "code",
      "source": [
        "spark.sql(\"show tables\").show()"
      ],
      "metadata": {
        "colab": {
          "base_uri": "https://localhost:8080/"
        },
        "id": "O76QDVDrZPsC",
        "outputId": "3da92548-8bd9-44e7-c660-5f306248d10b"
      },
      "execution_count": null,
      "outputs": [
        {
          "output_type": "stream",
          "name": "stdout",
          "text": [
            "+---------+-----------+-----------+\n",
            "|namespace|  tableName|isTemporary|\n",
            "+---------+-----------+-----------+\n",
            "|  default|student_ext|      false|\n",
            "|  default|student_int|      false|\n",
            "+---------+-----------+-----------+\n",
            "\n"
          ]
        }
      ]
    },
    {
      "cell_type": "code",
      "source": [
        "spark.sql(\"describe table default.student_ext \").show(truncate = False)"
      ],
      "metadata": {
        "colab": {
          "base_uri": "https://localhost:8080/"
        },
        "id": "xYRMyAmWbxcE",
        "outputId": "ec56d624-e410-4fdb-d026-cf4f4824e897"
      },
      "execution_count": null,
      "outputs": [
        {
          "output_type": "stream",
          "name": "stdout",
          "text": [
            "+--------+---------+-------+\n",
            "|col_name|data_type|comment|\n",
            "+--------+---------+-------+\n",
            "|id      |int      |null   |\n",
            "|name    |string   |null   |\n",
            "|rollno  |int      |null   |\n",
            "+--------+---------+-------+\n",
            "\n"
          ]
        }
      ]
    },
    {
      "cell_type": "code",
      "source": [
        "spark.sql(\"insert into table student_ext values(1,'sandeep',0382)\")"
      ],
      "metadata": {
        "colab": {
          "base_uri": "https://localhost:8080/"
        },
        "id": "JYAcHsO6uwVI",
        "outputId": "8e9a7bb7-59c5-47ce-905b-9f36cd662225"
      },
      "execution_count": null,
      "outputs": [
        {
          "output_type": "execute_result",
          "data": {
            "text/plain": [
              "DataFrame[]"
            ]
          },
          "metadata": {},
          "execution_count": 22
        }
      ]
    },
    {
      "cell_type": "code",
      "source": [
        "spark.sql(\"insert into table student_ext values(2,'satish',0561)\")"
      ],
      "metadata": {
        "colab": {
          "base_uri": "https://localhost:8080/"
        },
        "id": "RNEu_ipbwMhV",
        "outputId": "2ad8c036-6623-4f5e-9eec-2266639b4448"
      },
      "execution_count": null,
      "outputs": [
        {
          "output_type": "execute_result",
          "data": {
            "text/plain": [
              "DataFrame[]"
            ]
          },
          "metadata": {},
          "execution_count": 23
        }
      ]
    },
    {
      "cell_type": "code",
      "source": [
        "spark.sql(\"select * from student_ext\").show(truncate = False)"
      ],
      "metadata": {
        "colab": {
          "base_uri": "https://localhost:8080/"
        },
        "id": "mw3Mirp0w2Ur",
        "outputId": "a4f87461-b2ff-41a3-cf28-d1ce9c8cdf5d"
      },
      "execution_count": null,
      "outputs": [
        {
          "output_type": "stream",
          "name": "stdout",
          "text": [
            "+---+-------+------+\n",
            "|id |name   |rollno|\n",
            "+---+-------+------+\n",
            "|2  |satish |561   |\n",
            "|1  |sandeep|382   |\n",
            "+---+-------+------+\n",
            "\n"
          ]
        }
      ]
    },
    {
      "cell_type": "code",
      "source": [
        "spark.sql('show create table student_ext').show(truncate = False)"
      ],
      "metadata": {
        "colab": {
          "base_uri": "https://localhost:8080/"
        },
        "id": "DA0ZniL9yIMh",
        "outputId": "0392c423-d032-4434-95a9-3eb8005911ca"
      },
      "execution_count": null,
      "outputs": [
        {
          "output_type": "stream",
          "name": "stdout",
          "text": [
            "+-----------------------------------------------------------------------------------------------------------------------------------------------------------------------------------------------------+\n",
            "|createtab_stmt                                                                                                                                                                                       |\n",
            "+-----------------------------------------------------------------------------------------------------------------------------------------------------------------------------------------------------+\n",
            "|CREATE TABLE default.student_ext (\\n  id INT,\\n  name STRING,\\n  rollno INT)\\nUSING text\\nLOCATION 'file:/content/External/student_ext'\\nTBLPROPERTIES (\\n  'transient_lastDdlTime' = '1678688139')\\n|\n",
            "+-----------------------------------------------------------------------------------------------------------------------------------------------------------------------------------------------------+\n",
            "\n"
          ]
        }
      ]
    },
    {
      "cell_type": "code",
      "source": [
        "spark.sql(\"create external table if not exists family_ext (sno int ,name string ,age int ) location '/content/External/family_ext'\")"
      ],
      "metadata": {
        "colab": {
          "base_uri": "https://localhost:8080/"
        },
        "id": "FldkcukX0mZH",
        "outputId": "cf1c830a-2af1-4b35-b512-8264539dfc9a"
      },
      "execution_count": null,
      "outputs": [
        {
          "output_type": "execute_result",
          "data": {
            "text/plain": [
              "DataFrame[]"
            ]
          },
          "metadata": {},
          "execution_count": 26
        }
      ]
    },
    {
      "cell_type": "code",
      "source": [
        "spark.sql(\"show tables\").show()"
      ],
      "metadata": {
        "colab": {
          "base_uri": "https://localhost:8080/"
        },
        "id": "PIZwoYm_205I",
        "outputId": "3b2fd620-8c45-4555-f3f8-14f70dddf2dc"
      },
      "execution_count": null,
      "outputs": [
        {
          "output_type": "stream",
          "name": "stdout",
          "text": [
            "+---------+-----------+-----------+\n",
            "|namespace|  tableName|isTemporary|\n",
            "+---------+-----------+-----------+\n",
            "|  default| family_ext|      false|\n",
            "|  default|student_ext|      false|\n",
            "|  default|student_int|      false|\n",
            "+---------+-----------+-----------+\n",
            "\n"
          ]
        }
      ]
    },
    {
      "cell_type": "code",
      "source": [
        "spark.sql(\"insert into table family_ext values(1,'Krishna',60)\")"
      ],
      "metadata": {
        "colab": {
          "base_uri": "https://localhost:8080/"
        },
        "id": "y8lz8dKL0_zz",
        "outputId": "607a67eb-16c1-4cf1-c452-83271a4bb2cd"
      },
      "execution_count": null,
      "outputs": [
        {
          "output_type": "execute_result",
          "data": {
            "text/plain": [
              "DataFrame[]"
            ]
          },
          "metadata": {},
          "execution_count": 28
        }
      ]
    },
    {
      "cell_type": "code",
      "source": [
        "spark.sql('select * from family_ext').show(truncate = False)"
      ],
      "metadata": {
        "colab": {
          "base_uri": "https://localhost:8080/"
        },
        "id": "Mq-EQaij1XZB",
        "outputId": "135be4dd-c108-406d-df0f-f6703c6e83b9"
      },
      "execution_count": null,
      "outputs": [
        {
          "output_type": "stream",
          "name": "stdout",
          "text": [
            "+---+-------+---+\n",
            "|sno|name   |age|\n",
            "+---+-------+---+\n",
            "|1  |Krishna|60 |\n",
            "+---+-------+---+\n",
            "\n"
          ]
        }
      ]
    },
    {
      "cell_type": "code",
      "source": [
        "spark.sql('show create table family_ext').show(truncate = False)"
      ],
      "metadata": {
        "colab": {
          "base_uri": "https://localhost:8080/"
        },
        "id": "LiqVYPtx1kK8",
        "outputId": "fc121931-61d7-4c61-cc15-bd5f94bf0f01"
      },
      "execution_count": null,
      "outputs": [
        {
          "output_type": "stream",
          "name": "stdout",
          "text": [
            "+-------------------------------------------------------------------------------------------------------------------------------------------------------------------------------------------------+\n",
            "|createtab_stmt                                                                                                                                                                                   |\n",
            "+-------------------------------------------------------------------------------------------------------------------------------------------------------------------------------------------------+\n",
            "|CREATE TABLE default.family_ext (\\n  sno INT,\\n  name STRING,\\n  age INT)\\nUSING text\\nLOCATION 'file:/content/External/family_ext'\\nTBLPROPERTIES (\\n  'transient_lastDdlTime' = '1678688141')\\n|\n",
            "+-------------------------------------------------------------------------------------------------------------------------------------------------------------------------------------------------+\n",
            "\n"
          ]
        }
      ]
    },
    {
      "cell_type": "markdown",
      "source": [
        "# Difference between internal and external table\n",
        "\n",
        "if we drop internal table both table meta data and data will be deleted (/content/hive-warehouse)\n",
        "\n",
        "if we drop External table only table meta data dropped ,data will remain in external location (/content/External)"
      ],
      "metadata": {
        "id": "4HyIuqUu4qo7"
      }
    },
    {
      "cell_type": "code",
      "source": [
        "spark.sql('drop table student_int')"
      ],
      "metadata": {
        "colab": {
          "base_uri": "https://localhost:8080/"
        },
        "id": "D3pDscM_4xbj",
        "outputId": "509080ef-ce91-4094-8abe-44f4469fff08"
      },
      "execution_count": null,
      "outputs": [
        {
          "output_type": "execute_result",
          "data": {
            "text/plain": [
              "DataFrame[]"
            ]
          },
          "metadata": {},
          "execution_count": 31
        }
      ]
    },
    {
      "cell_type": "code",
      "source": [
        "spark.sql('drop table student_ext')"
      ],
      "metadata": {
        "colab": {
          "base_uri": "https://localhost:8080/"
        },
        "id": "L7je1tuA49ct",
        "outputId": "bdb59722-f44b-4d17-8bd5-6bfad7cc51ce"
      },
      "execution_count": null,
      "outputs": [
        {
          "output_type": "execute_result",
          "data": {
            "text/plain": [
              "DataFrame[]"
            ]
          },
          "metadata": {},
          "execution_count": 32
        }
      ]
    },
    {
      "cell_type": "markdown",
      "source": [
        "# Views\n",
        "\n",
        "View : window of a table or query , view does not store any data.\n",
        "\n",
        "# types of views:\n",
        "\n",
        "1. Normal View\n",
        "\n",
        "2. Temporary view\n",
        "*   global temporary view\n",
        "*   temporary view"
      ],
      "metadata": {
        "id": "RmWjMS7IS1Ct"
      }
    },
    {
      "cell_type": "markdown",
      "source": [
        "# Creating Normal view"
      ],
      "metadata": {
        "id": "f-eXnY_qsjKt"
      }
    },
    {
      "cell_type": "code",
      "source": [
        "spark.sql(\"create external table test3.emp(id int,fname string,lname string,salary int,exp int) location '/content/External/emp'\")"
      ],
      "metadata": {
        "colab": {
          "base_uri": "https://localhost:8080/"
        },
        "id": "_HZKfQ3XUQdz",
        "outputId": "46cf1f78-609b-49a9-c7ee-f77d6a7a5b17"
      },
      "execution_count": null,
      "outputs": [
        {
          "output_type": "execute_result",
          "data": {
            "text/plain": [
              "DataFrame[]"
            ]
          },
          "metadata": {},
          "execution_count": 33
        }
      ]
    },
    {
      "cell_type": "code",
      "source": [
        "spark.sql(\"insert into test3.emp(id,fname,lname,salary,exp) values(1,'Satish','Nookala',100000,7)\")\n",
        "spark.sql(\"insert into test3.emp(id,fname,lname,salary,exp) values(2,'Sandeep','Nookala',50000,4)\")\n",
        "spark.sql(\"insert into test3.emp(id,fname,lname,salary,exp) values(3,'krishna','Nookala',10000,2)\")\n",
        "spark.sql(\"insert into test3.emp(id,fname,lname,salary,exp) values(4,'padma','Nookala',1000,2)\")\n",
        "spark.sql(\"insert into test3.emp(id,fname,lname,salary,exp) values(5,'anusha','Nookala',100,1)\")\n",
        "spark.sql(\"insert into test3.emp(id,fname,lname,salary,exp) values(6,'swathi','Nookala',10,0)\")"
      ],
      "metadata": {
        "colab": {
          "base_uri": "https://localhost:8080/"
        },
        "id": "luJgMQ5PXawY",
        "outputId": "440c13f1-6a8d-4573-806a-2e8414b837e3"
      },
      "execution_count": null,
      "outputs": [
        {
          "output_type": "execute_result",
          "data": {
            "text/plain": [
              "DataFrame[]"
            ]
          },
          "metadata": {},
          "execution_count": 34
        }
      ]
    },
    {
      "cell_type": "code",
      "source": [
        "spark.sql('select * from test3.emp').show()"
      ],
      "metadata": {
        "colab": {
          "base_uri": "https://localhost:8080/"
        },
        "id": "Jw-gW8fSYeqN",
        "outputId": "635526ca-d444-4de6-d8b5-4b66a251ef01"
      },
      "execution_count": null,
      "outputs": [
        {
          "output_type": "stream",
          "name": "stdout",
          "text": [
            "+---+-------+-------+------+---+\n",
            "| id|  fname|  lname|salary|exp|\n",
            "+---+-------+-------+------+---+\n",
            "|  5| anusha|Nookala|   100|  1|\n",
            "|  6| swathi|Nookala|    10|  0|\n",
            "|  1| Satish|Nookala|100000|  7|\n",
            "|  4|  padma|Nookala|  1000|  2|\n",
            "|  3|krishna|Nookala| 10000|  2|\n",
            "|  2|Sandeep|Nookala| 50000|  4|\n",
            "+---+-------+-------+------+---+\n",
            "\n"
          ]
        }
      ]
    },
    {
      "cell_type": "code",
      "source": [
        "spark.sql('select * from test3.emp order by id').show()"
      ],
      "metadata": {
        "colab": {
          "base_uri": "https://localhost:8080/"
        },
        "id": "hH4SA2xPYo9O",
        "outputId": "9b5db7e3-9bc4-411d-f28f-1a107b0b10f9"
      },
      "execution_count": null,
      "outputs": [
        {
          "output_type": "stream",
          "name": "stdout",
          "text": [
            "+---+-------+-------+------+---+\n",
            "| id|  fname|  lname|salary|exp|\n",
            "+---+-------+-------+------+---+\n",
            "|  1| Satish|Nookala|100000|  7|\n",
            "|  2|Sandeep|Nookala| 50000|  4|\n",
            "|  3|krishna|Nookala| 10000|  2|\n",
            "|  4|  padma|Nookala|  1000|  2|\n",
            "|  5| anusha|Nookala|   100|  1|\n",
            "|  6| swathi|Nookala|    10|  0|\n",
            "+---+-------+-------+------+---+\n",
            "\n"
          ]
        }
      ]
    },
    {
      "cell_type": "code",
      "source": [
        "# create or replce view from select query \n",
        "\n",
        "spark.sql('create or replace view emp_view_id as select * from test3.emp order by id')"
      ],
      "metadata": {
        "colab": {
          "base_uri": "https://localhost:8080/"
        },
        "id": "jK60R2AFdRTP",
        "outputId": "1a114bc1-cec0-4778-8ce6-21c821d89e34"
      },
      "execution_count": null,
      "outputs": [
        {
          "output_type": "execute_result",
          "data": {
            "text/plain": [
              "DataFrame[]"
            ]
          },
          "metadata": {},
          "execution_count": 37
        }
      ]
    },
    {
      "cell_type": "code",
      "source": [
        "# create or replce view from select query\n",
        "\n",
        "spark.sql('create or replace view emp_view_salary as select * from test3.emp order by salary desc')\n"
      ],
      "metadata": {
        "colab": {
          "base_uri": "https://localhost:8080/"
        },
        "id": "ppmI_ohObNYp",
        "outputId": "3bbc0f4d-bcde-44e9-93ad-e7998fafd947"
      },
      "execution_count": null,
      "outputs": [
        {
          "output_type": "execute_result",
          "data": {
            "text/plain": [
              "DataFrame[]"
            ]
          },
          "metadata": {},
          "execution_count": 38
        }
      ]
    },
    {
      "cell_type": "code",
      "source": [
        "# DL of view emp_view_salary\n",
        "spark.sql('show create table emp_view_salary').show(truncate = False)"
      ],
      "metadata": {
        "colab": {
          "base_uri": "https://localhost:8080/"
        },
        "id": "s6R_ChLdciT5",
        "outputId": "28b08f57-75f5-41c6-ec92-c076ab94f284"
      },
      "execution_count": null,
      "outputs": [
        {
          "output_type": "stream",
          "name": "stdout",
          "text": [
            "+--------------------------------------------------------------------------------------------------------------------------------------------------------------------------------------------------+\n",
            "|createtab_stmt                                                                                                                                                                                    |\n",
            "+--------------------------------------------------------------------------------------------------------------------------------------------------------------------------------------------------+\n",
            "|CREATE VIEW default.emp_view_salary (\\n  id,\\n  fname,\\n  lname,\\n  salary,\\n  exp)\\nTBLPROPERTIES (\\n  'transient_lastDdlTime' = '1678688149')\\nAS select * from test3.emp order by salary desc\\n|\n",
            "+--------------------------------------------------------------------------------------------------------------------------------------------------------------------------------------------------+\n",
            "\n"
          ]
        }
      ]
    },
    {
      "cell_type": "code",
      "source": [
        "#DL of view emp_view_id\n",
        "spark.sql('show create table emp_view_id').show(truncate=False)"
      ],
      "metadata": {
        "colab": {
          "base_uri": "https://localhost:8080/"
        },
        "id": "m7mwKcbnmYWZ",
        "outputId": "72937d99-877c-4d6c-9c9e-18030e8641e4"
      },
      "execution_count": null,
      "outputs": [
        {
          "output_type": "stream",
          "name": "stdout",
          "text": [
            "+-------------------------------------------------------------------------------------------------------------------------------------------------------------------------------------+\n",
            "|createtab_stmt                                                                                                                                                                       |\n",
            "+-------------------------------------------------------------------------------------------------------------------------------------------------------------------------------------+\n",
            "|CREATE VIEW default.emp_view_id (\\n  id,\\n  fname,\\n  lname,\\n  salary,\\n  exp)\\nTBLPROPERTIES (\\n  'transient_lastDdlTime' = '1678688148')\\nAS select * from test3.emp order by id\\n|\n",
            "+-------------------------------------------------------------------------------------------------------------------------------------------------------------------------------------+\n",
            "\n"
          ]
        }
      ]
    },
    {
      "cell_type": "code",
      "source": [
        "spark.sql('select * from emp_view_salary').show(truncate = False)"
      ],
      "metadata": {
        "colab": {
          "base_uri": "https://localhost:8080/"
        },
        "id": "7zkt-gM3b1Mi",
        "outputId": "7091532e-b922-4966-fe0d-286fbb6841c0"
      },
      "execution_count": null,
      "outputs": [
        {
          "output_type": "stream",
          "name": "stdout",
          "text": [
            "+---+-------+-------+------+---+\n",
            "|id |fname  |lname  |salary|exp|\n",
            "+---+-------+-------+------+---+\n",
            "|1  |Satish |Nookala|100000|7  |\n",
            "|2  |Sandeep|Nookala|50000 |4  |\n",
            "|3  |krishna|Nookala|10000 |2  |\n",
            "|4  |padma  |Nookala|1000  |2  |\n",
            "|5  |anusha |Nookala|100   |1  |\n",
            "|6  |swathi |Nookala|10    |0  |\n",
            "+---+-------+-------+------+---+\n",
            "\n"
          ]
        }
      ]
    },
    {
      "cell_type": "code",
      "source": [
        "spark.sql('select * from emp_view_id').show(truncate = False)"
      ],
      "metadata": {
        "colab": {
          "base_uri": "https://localhost:8080/"
        },
        "id": "E1FjuTowdwII",
        "outputId": "24d6d88f-a23b-408d-be1e-7fafca0dd74e"
      },
      "execution_count": null,
      "outputs": [
        {
          "output_type": "stream",
          "name": "stdout",
          "text": [
            "+---+-------+-------+------+---+\n",
            "|id |fname  |lname  |salary|exp|\n",
            "+---+-------+-------+------+---+\n",
            "|1  |Satish |Nookala|100000|7  |\n",
            "|2  |Sandeep|Nookala|50000 |4  |\n",
            "|3  |krishna|Nookala|10000 |2  |\n",
            "|4  |padma  |Nookala|1000  |2  |\n",
            "|5  |anusha |Nookala|100   |1  |\n",
            "|6  |swathi |Nookala|10    |0  |\n",
            "+---+-------+-------+------+---+\n",
            "\n"
          ]
        }
      ]
    },
    {
      "cell_type": "markdown",
      "source": [
        "# global temporary view"
      ],
      "metadata": {
        "id": "9aF54gIlsWsf"
      }
    },
    {
      "cell_type": "code",
      "source": [
        " #global temporary view\n",
        "spark.sql('create or replace global temporary view gtv_emp as select * from test3.emp')"
      ],
      "metadata": {
        "id": "xvdv5JU5cubP",
        "colab": {
          "base_uri": "https://localhost:8080/"
        },
        "outputId": "28d85212-52b3-4700-b0e8-2394b60a63ed"
      },
      "execution_count": null,
      "outputs": [
        {
          "output_type": "execute_result",
          "data": {
            "text/plain": [
              "DataFrame[]"
            ]
          },
          "metadata": {},
          "execution_count": 47
        }
      ]
    },
    {
      "cell_type": "code",
      "source": [
        " #global temporary view\n",
        "spark.sql('select * from global_temp.gtv_emp').show()"
      ],
      "metadata": {
        "colab": {
          "base_uri": "https://localhost:8080/"
        },
        "id": "64jiVZJzr13c",
        "outputId": "2a3c89f5-31f5-48cf-e4b5-5c86d8dd55b9"
      },
      "execution_count": null,
      "outputs": [
        {
          "output_type": "stream",
          "name": "stdout",
          "text": [
            "+---+-------+-------+------+---+\n",
            "| id|  fname|  lname|salary|exp|\n",
            "+---+-------+-------+------+---+\n",
            "|  5| anusha|Nookala|   100|  1|\n",
            "|  6| swathi|Nookala|    10|  0|\n",
            "|  1| Satish|Nookala|100000|  7|\n",
            "|  4|  padma|Nookala|  1000|  2|\n",
            "|  3|krishna|Nookala| 10000|  2|\n",
            "|  2|Sandeep|Nookala| 50000|  4|\n",
            "+---+-------+-------+------+---+\n",
            "\n"
          ]
        }
      ]
    },
    {
      "cell_type": "markdown",
      "source": [
        "# temporary view"
      ],
      "metadata": {
        "id": "yQUM5OqEtRHt"
      }
    },
    {
      "cell_type": "code",
      "source": [
        "spark.sql('create or replace temporary view tv_emp as select * from test3.emp')"
      ],
      "metadata": {
        "colab": {
          "base_uri": "https://localhost:8080/"
        },
        "id": "m5O8v8jJsD9X",
        "outputId": "8b2f744e-f75a-4ea5-f78d-b478b91840cf"
      },
      "execution_count": null,
      "outputs": [
        {
          "output_type": "execute_result",
          "data": {
            "text/plain": [
              "DataFrame[]"
            ]
          },
          "metadata": {},
          "execution_count": 48
        }
      ]
    },
    {
      "cell_type": "code",
      "source": [
        "spark.sql('select * from tv_emp').show(truncate = False)"
      ],
      "metadata": {
        "colab": {
          "base_uri": "https://localhost:8080/"
        },
        "id": "P0evz7CsuNml",
        "outputId": "7d64a4a3-1502-4404-aa9f-7bb954960284"
      },
      "execution_count": null,
      "outputs": [
        {
          "output_type": "stream",
          "name": "stdout",
          "text": [
            "+---+-------+-------+------+---+\n",
            "|id |fname  |lname  |salary|exp|\n",
            "+---+-------+-------+------+---+\n",
            "|5  |anusha |Nookala|100   |1  |\n",
            "|6  |swathi |Nookala|10    |0  |\n",
            "|1  |Satish |Nookala|100000|7  |\n",
            "|4  |padma  |Nookala|1000  |2  |\n",
            "|3  |krishna|Nookala|10000 |2  |\n",
            "|2  |Sandeep|Nookala|50000 |4  |\n",
            "+---+-------+-------+------+---+\n",
            "\n"
          ]
        }
      ]
    },
    {
      "cell_type": "markdown",
      "source": [
        "# Differnce between View ,Temp View ,Global Temp View\n",
        "\n",
        "View : scope is spark catalog .view  can be accessed by any user in any session and in any cluster\n",
        "\n",
        "Temp View: scope is user level only. view avaliable only that user cannot accessed by others\n",
        "\n",
        "Global Temp View : scope is spark session only.view avaliable only at spark cluster level.any user within cluster can access view\n"
      ],
      "metadata": {
        "id": "8683s6QbuwfB"
      }
    },
    {
      "cell_type": "markdown",
      "source": [
        "# Constraints\n",
        "\n",
        "1.   NOT NULL : indicates that values in a specific columns cannot be null\n",
        "2.   CHECK: indicates that a specified Boolean must be true for each input row"
      ],
      "metadata": {
        "id": "ZzXWx8TpNfjd"
      }
    },
    {
      "cell_type": "markdown",
      "source": [
        "# NOT NULL"
      ],
      "metadata": {
        "id": "-_BS6nysM_Qr"
      }
    },
    {
      "cell_type": "code",
      "source": [
        "spark.sql(\"create table if not exists test3.events( id long not null ,date string not null , location string,description string)\")"
      ],
      "metadata": {
        "colab": {
          "base_uri": "https://localhost:8080/"
        },
        "id": "jR9U2tor0_Ku",
        "outputId": "8b005077-ddf4-4cd3-f4f0-63bf9ea6c698"
      },
      "execution_count": null,
      "outputs": [
        {
          "output_type": "execute_result",
          "data": {
            "text/plain": [
              "DataFrame[]"
            ]
          },
          "metadata": {},
          "execution_count": 56
        }
      ]
    },
    {
      "cell_type": "code",
      "source": [
        "spark.sql(\"insert into test3.events(id,date,location,description) values(1,current_Date,'Hyderabad','This sample data')\")"
      ],
      "metadata": {
        "colab": {
          "base_uri": "https://localhost:8080/"
        },
        "id": "AGGVUMhR-ibO",
        "outputId": "1d08613e-ac89-4055-c833-df22c643e093"
      },
      "execution_count": null,
      "outputs": [
        {
          "output_type": "execute_result",
          "data": {
            "text/plain": [
              "DataFrame[]"
            ]
          },
          "metadata": {},
          "execution_count": 63
        }
      ]
    },
    {
      "cell_type": "code",
      "source": [
        "spark.sql('select * from test3.events').show()"
      ],
      "metadata": {
        "colab": {
          "base_uri": "https://localhost:8080/"
        },
        "id": "9IANrwYi_VIl",
        "outputId": "175f933d-e9f4-47ab-ea4b-47a02961eafc"
      },
      "execution_count": null,
      "outputs": [
        {
          "output_type": "stream",
          "name": "stdout",
          "text": [
            "+---+----------+---------+----------------+\n",
            "| id|      date| location|     description|\n",
            "+---+----------+---------+----------------+\n",
            "|  1|13-03-2023|Hyderabad|This sample data|\n",
            "|  1|2023-03-13|Hyderabad|This sample data|\n",
            "+---+----------+---------+----------------+\n",
            "\n"
          ]
        }
      ]
    },
    {
      "cell_type": "code",
      "source": [
        "spark.sql('describe table test3.events').show()"
      ],
      "metadata": {
        "colab": {
          "base_uri": "https://localhost:8080/"
        },
        "id": "Jf73aTJUHZ2Y",
        "outputId": "71316a51-c1d2-45c3-e471-f6c95a00744e"
      },
      "execution_count": null,
      "outputs": [
        {
          "output_type": "stream",
          "name": "stdout",
          "text": [
            "+-----------+---------+-------+\n",
            "|   col_name|data_type|comment|\n",
            "+-----------+---------+-------+\n",
            "|         id|   bigint|   null|\n",
            "|       date|   string|   null|\n",
            "|   location|   string|   null|\n",
            "|description|   string|   null|\n",
            "+-----------+---------+-------+\n",
            "\n"
          ]
        }
      ]
    },
    {
      "cell_type": "markdown",
      "source": [
        "# DML - data manipulation language"
      ],
      "metadata": {
        "id": "aFLwJ734fhas"
      }
    },
    {
      "cell_type": "code",
      "source": [],
      "metadata": {
        "id": "Rqrv9FKbgtVB"
      },
      "execution_count": null,
      "outputs": []
    },
    {
      "cell_type": "code",
      "source": [
        "spark.sql(\"CREATE TABLE IF NOT EXISTS TEST3.EMP(EMPNO DECIMAL(4) NOT NULL,ENAME VARCHAR(10),JOB VARCHAR(10),MGR DECIMAL(4),HIREDATE STRING,SAL DECIMAL,COMM DECIMAL) partitioned by (DEPTNO DECIMAL(4))\")\n",
        " "
      ],
      "metadata": {
        "id": "o7WrNMXDfllb"
      },
      "execution_count": null,
      "outputs": []
    },
    {
      "cell_type": "code",
      "source": [
        "spark.sql(\"INSERT INTO TEST3.EMP VALUES(7369,'SMITH','CLERK',7902,'17-12-1980',800,null,20)\")\n",
        "spark.sql(\"INSERT INTO TEST3.EMP VALUES(7499,'ALLEN','SALESMAN',7698,'20-02-1981',1600,300,30)\")\n",
        "spark.sql(\"INSERT INTO TEST3.EMP VALUES(7521,'WARD','SALESMAN',7698,'22-02-1981',1250,500,30)\")\n",
        "spark.sql(\"INSERT INTO TEST3.EMP VALUES(7566,'JONES','MANAGER',7839,'04-02-1981',2975,null,20)\")"
      ],
      "metadata": {
        "id": "7NmMfB2xfn86"
      },
      "execution_count": null,
      "outputs": []
    },
    {
      "cell_type": "code",
      "source": [
        "spark.sql('select * from test3.emp').show()"
      ],
      "metadata": {
        "id": "Ou3a9Y7BfqNU"
      },
      "execution_count": null,
      "outputs": []
    },
    {
      "cell_type": "markdown",
      "source": [
        "# create table as select query"
      ],
      "metadata": {
        "id": "0iiqdwSzftzn"
      }
    },
    {
      "cell_type": "code",
      "source": [
        "# crete new table with data using select query\n",
        "spark.sql('create table test3.emp_bkp as select * from test3.emp')"
      ],
      "metadata": {
        "id": "UkTRRJ60ftkR"
      },
      "execution_count": null,
      "outputs": []
    },
    {
      "cell_type": "code",
      "source": [
        "spark.sql('select * from test3.emp_bkp').show()"
      ],
      "metadata": {
        "id": "w_M049CEfybC"
      },
      "execution_count": null,
      "outputs": []
    },
    {
      "cell_type": "code",
      "source": [
        "# crete new table without data using select query\n",
        "\n",
        "spark.sql('create table test3.emp_bkp2 as select * from test3.emp where 1=2')"
      ],
      "metadata": {
        "id": "uugq3n0cf0TQ"
      },
      "execution_count": null,
      "outputs": []
    },
    {
      "cell_type": "code",
      "source": [
        "spark.sql('select * from test3.emp_bkp2').show()"
      ],
      "metadata": {
        "id": "x8mNSe8Uf2KU"
      },
      "execution_count": null,
      "outputs": []
    },
    {
      "cell_type": "markdown",
      "source": [
        "#Delete and truncate\n",
        "used to delete entire table data\n",
        "Delete : using this we can delete individual records\n",
        "\n",
        "truncate: Normally it will delete entire table data and also can delete partitioned wise data using partition keyword"
      ],
      "metadata": {
        "id": "o1IVEboBf57r"
      }
    },
    {
      "cell_type": "markdown",
      "source": [
        "# truncate"
      ],
      "metadata": {
        "id": "ZRP9pzcqgiRB"
      }
    },
    {
      "cell_type": "code",
      "source": [
        "spark.sql('select * from test3.emp_bkp').show()"
      ],
      "metadata": {
        "id": "3YCuxr_-gIZ9"
      },
      "execution_count": null,
      "outputs": []
    },
    {
      "cell_type": "code",
      "source": [
        "spark.sql('truncate table test3.emp_bkp').show()"
      ],
      "metadata": {
        "id": "Y5f7mhgegI7_"
      },
      "execution_count": null,
      "outputs": []
    },
    {
      "cell_type": "code",
      "source": [
        "spark.sql('truncate table test3.emp partition( DEPTNO=20)').show()"
      ],
      "metadata": {
        "id": "2gHEZNErgMK6"
      },
      "execution_count": null,
      "outputs": []
    },
    {
      "cell_type": "code",
      "source": [
        "spark.sql('select * from test3.emp').show()"
      ],
      "metadata": {
        "id": "jgSe-NeHgN7B"
      },
      "execution_count": null,
      "outputs": []
    },
    {
      "cell_type": "markdown",
      "source": [
        "# Delete"
      ],
      "metadata": {
        "id": "E123xpPhgSF1"
      }
    },
    {
      "cell_type": "code",
      "source": [
        "spark.sql(\"create external table test3.emp_ext location '/content/External/emp' as select * from test3.emp\")"
      ],
      "metadata": {
        "id": "dsgRTHIYgS8P"
      },
      "execution_count": null,
      "outputs": []
    },
    {
      "cell_type": "code",
      "source": [
        "spark.sql('select * from test3.emp_ext').show()"
      ],
      "metadata": {
        "id": "gEYWoChLgXXB"
      },
      "execution_count": null,
      "outputs": []
    },
    {
      "cell_type": "code",
      "source": [
        "#delete entire table data\n",
        "spark.sql('delete from test3.emp_ext').show()"
      ],
      "metadata": {
        "id": "6NbQ0r3SgY2S"
      },
      "execution_count": null,
      "outputs": []
    },
    {
      "cell_type": "code",
      "source": [
        "#delete specific recoders only\n",
        "spark.sql('delete from test3.emp_ext where DEPTNO=20').show()"
      ],
      "metadata": {
        "id": "Vg_W5XjQgaUI"
      },
      "execution_count": null,
      "outputs": []
    }
  ]
}