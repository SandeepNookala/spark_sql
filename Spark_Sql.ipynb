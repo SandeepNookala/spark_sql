{
  "nbformat": 4,
  "nbformat_minor": 0,
  "metadata": {
    "colab": {
      "provenance": [],
      "collapsed_sections": [
        "lKS3ZMpAtmbp",
        "8KYiyQ3iDOjK",
        "iaH9QBnwBJcz",
        "oQt6VbE6BW4Y",
        "0a-Z0FTGBdeY",
        "V7QAPwXOFvpi",
        "Y2rQqhcMJb6o",
        "UFvQKRxmKjjJ",
        "9198F5-8qsrS",
        "pZdW33UcPWHb"
      ]
    },
    "kernelspec": {
      "name": "python3",
      "display_name": "Python 3"
    },
    "language_info": {
      "name": "python"
    }
  },
  "cells": [
    {
      "cell_type": "markdown",
      "source": [
        "# pyspark installation"
      ],
      "metadata": {
        "id": "lKS3ZMpAtmbp"
      }
    },
    {
      "cell_type": "code",
      "source": [
        "!pip install pyspark py4j"
      ],
      "metadata": {
        "colab": {
          "base_uri": "https://localhost:8080/"
        },
        "id": "hIQQSK0v_eAH",
        "outputId": "62e5597d-ff12-448c-d0dc-5cbb367d2085"
      },
      "execution_count": null,
      "outputs": [
        {
          "output_type": "stream",
          "name": "stdout",
          "text": [
            "Looking in indexes: https://pypi.org/simple, https://us-python.pkg.dev/colab-wheels/public/simple/\n",
            "Collecting pyspark\n",
            "  Downloading pyspark-3.3.2.tar.gz (281.4 MB)\n",
            "\u001b[2K     \u001b[90m━━━━━━━━━━━━━━━━━━━━━━━━━━━━━━━━━━━━━━━\u001b[0m \u001b[32m281.4/281.4 MB\u001b[0m \u001b[31m4.4 MB/s\u001b[0m eta \u001b[36m0:00:00\u001b[0m\n",
            "\u001b[?25h  Preparing metadata (setup.py) ... \u001b[?25l\u001b[?25hdone\n",
            "Collecting py4j\n",
            "  Downloading py4j-0.10.9.7-py2.py3-none-any.whl (200 kB)\n",
            "\u001b[2K     \u001b[90m━━━━━━━━━━━━━━━━━━━━━━━━━━━━━━━━━━━━━━\u001b[0m \u001b[32m200.5/200.5 KB\u001b[0m \u001b[31m21.8 MB/s\u001b[0m eta \u001b[36m0:00:00\u001b[0m\n",
            "\u001b[?25h  Downloading py4j-0.10.9.5-py2.py3-none-any.whl (199 kB)\n",
            "\u001b[2K     \u001b[90m━━━━━━━━━━━━━━━━━━━━━━━━━━━━━━━━━━━━━━\u001b[0m \u001b[32m199.7/199.7 KB\u001b[0m \u001b[31m23.0 MB/s\u001b[0m eta \u001b[36m0:00:00\u001b[0m\n",
            "\u001b[?25hBuilding wheels for collected packages: pyspark\n"
          ]
        }
      ]
    },
    {
      "cell_type": "markdown",
      "source": [
        " # Create spark session with hive enabled"
      ],
      "metadata": {
        "id": "8KYiyQ3iDOjK"
      }
    },
    {
      "cell_type": "code",
      "source": [
        "from os.path import abspath\n",
        "\n",
        "from pyspark.sql import SparkSession\n",
        "\n",
        "# warehouse_location\n",
        "warehouse_location = abspath('hive-warehouse')\n",
        "\n",
        "# Create spark session with hive enabled\n",
        "spark = SparkSession.builder.master('local').appName('demo').config('spark.sql.warehouse.dir',warehouse_location).enableHiveSupport().getOrCreate()\n",
        "\n",
        "spark\n"
      ],
      "metadata": {
        "id": "8zxPb3qx_lsx"
      },
      "execution_count": null,
      "outputs": []
    },
    {
      "cell_type": "markdown",
      "source": [
        "# show databases"
      ],
      "metadata": {
        "id": "iaH9QBnwBJcz"
      }
    },
    {
      "cell_type": "code",
      "source": [
        "spark.sql('show databases').show()"
      ],
      "metadata": {
        "id": "1Y4pd-_CA1xW"
      },
      "execution_count": null,
      "outputs": []
    },
    {
      "cell_type": "markdown",
      "source": [
        "# creating new database"
      ],
      "metadata": {
        "id": "oQt6VbE6BW4Y"
      }
    },
    {
      "cell_type": "code",
      "source": [
        "spark.sql('create database if not exists test3').show()"
      ],
      "metadata": {
        "id": "nf1Z-XSgA6HE"
      },
      "execution_count": null,
      "outputs": []
    },
    {
      "cell_type": "markdown",
      "source": [
        "# creating table using specified file format:"
      ],
      "metadata": {
        "id": "0a-Z0FTGBdeY"
      }
    },
    {
      "cell_type": "code",
      "source": [
        "spark.sql('create table if not exists test3.Employee_csv (Id Int ,Name string ,loc string) using csv')"
      ],
      "metadata": {
        "id": "WQH5DJEoBEuG"
      },
      "execution_count": null,
      "outputs": []
    },
    {
      "cell_type": "code",
      "source": [
        "# DDL of the table\n",
        "\n",
        "spark.sql('show create table test3.Employee_csv ').show(truncate = False)"
      ],
      "metadata": {
        "id": "X22MSds99z2T"
      },
      "execution_count": null,
      "outputs": []
    },
    {
      "cell_type": "code",
      "source": [
        "# insert data into table\n",
        "spark.sql(\"insert into test3.employee_csv values(1,'Satish','hyd')\")"
      ],
      "metadata": {
        "id": "YC_l4S8l9SxO"
      },
      "execution_count": null,
      "outputs": []
    },
    {
      "cell_type": "code",
      "source": [
        "ls /content/hive-warehouse/test3.db/employee_csv/"
      ],
      "metadata": {
        "colab": {
          "base_uri": "https://localhost:8080/"
        },
        "id": "qQ_jHw718D-7",
        "outputId": "3ec2f258-98a3-4203-db3e-d1c1ef3c58dd"
      },
      "execution_count": 8,
      "outputs": [
        {
          "metadata": {
            "tags": null
          },
          "name": "stdout",
          "output_type": "stream",
          "text": [
            "part-00000-26fb33ac-f84a-43c2-aa0b-5f5c4727a18e-c000.csv  _SUCCESS\n"
          ]
        }
      ]
    },
    {
      "cell_type": "code",
      "source": [
        "# show table\n",
        "spark.sql(\"select * from test3.employee_csv \").show()"
      ],
      "metadata": {
        "colab": {
          "base_uri": "https://localhost:8080/"
        },
        "id": "nDEnQeKS_L5V",
        "outputId": "0a176222-b768-4481-a16e-c0fec33ad22f"
      },
      "execution_count": 9,
      "outputs": [
        {
          "metadata": {
            "tags": null
          },
          "name": "stdout",
          "output_type": "stream",
          "text": [
            "+---+------+---+\n",
            "| Id|  Name|loc|\n",
            "+---+------+---+\n",
            "|  1|Satish|hyd|\n",
            "+---+------+---+\n",
            "\n"
          ]
        }
      ]
    },
    {
      "cell_type": "markdown",
      "source": [
        "# show tables in database"
      ],
      "metadata": {
        "id": "V7QAPwXOFvpi"
      }
    },
    {
      "cell_type": "code",
      "source": [
        "spark.sql('show tables in test3').show()"
      ],
      "metadata": {
        "id": "C9zHrP_2B9K2",
        "colab": {
          "base_uri": "https://localhost:8080/"
        },
        "outputId": "6b5c61af-9ee1-47cf-f2f3-30a3069e1f65"
      },
      "execution_count": 10,
      "outputs": [
        {
          "metadata": {
            "tags": null
          },
          "name": "stdout",
          "output_type": "stream",
          "text": [
            "+---------+------------+-----------+\n",
            "|namespace|   tableName|isTemporary|\n",
            "+---------+------------+-----------+\n",
            "|    test3|employee_csv|      false|\n",
            "+---------+------------+-----------+\n",
            "\n"
          ]
        }
      ]
    },
    {
      "cell_type": "markdown",
      "source": [
        "# describe database"
      ],
      "metadata": {
        "id": "Y2rQqhcMJb6o"
      }
    },
    {
      "cell_type": "code",
      "source": [
        "spark.sql(\"describe database test3\" ).show(truncate = False)"
      ],
      "metadata": {
        "colab": {
          "base_uri": "https://localhost:8080/"
        },
        "id": "8-Epmu5nIyfG",
        "outputId": "1a0e82f6-96c6-4aa8-bf19-e4f7fcbf5ac5"
      },
      "execution_count": 11,
      "outputs": [
        {
          "metadata": {
            "tags": null
          },
          "name": "stdout",
          "output_type": "stream",
          "text": [
            "+--------------+-------------------------------------+\n",
            "|info_name     |info_value                           |\n",
            "+--------------+-------------------------------------+\n",
            "|Namespace Name|test3                                |\n",
            "|Comment       |                                     |\n",
            "|Location      |file:/content/hive-warehouse/test3.db|\n",
            "|Owner         |root                                 |\n",
            "+--------------+-------------------------------------+\n",
            "\n"
          ]
        }
      ]
    },
    {
      "cell_type": "markdown",
      "source": [
        "# create and descibe database in specified location"
      ],
      "metadata": {
        "id": "UFvQKRxmKjjJ"
      }
    },
    {
      "cell_type": "code",
      "source": [
        "spark.sql(\"create database if not exists sandeep location '/content/ext_db'\")"
      ],
      "metadata": {
        "colab": {
          "base_uri": "https://localhost:8080/"
        },
        "id": "zI1U3rxVLFAc",
        "outputId": "70b04910-5ff4-4794-cf63-f06f256f82c1"
      },
      "execution_count": 12,
      "outputs": [
        {
          "data": {
            "text/plain": [
              "DataFrame[]"
            ]
          },
          "execution_count": 12,
          "metadata": {},
          "output_type": "execute_result"
        }
      ]
    },
    {
      "cell_type": "code",
      "source": [
        "spark.sql(\"describe database sandeep\").show(truncate = False)"
      ],
      "metadata": {
        "colab": {
          "base_uri": "https://localhost:8080/"
        },
        "id": "tXWmtWBWLaTP",
        "outputId": "e7ae0b3a-f275-4d85-c07f-17209b570433"
      },
      "execution_count": 13,
      "outputs": [
        {
          "metadata": {
            "tags": null
          },
          "name": "stdout",
          "output_type": "stream",
          "text": [
            "+--------------+--------------------+\n",
            "|info_name     |info_value          |\n",
            "+--------------+--------------------+\n",
            "|Namespace Name|sandeep             |\n",
            "|Comment       |                    |\n",
            "|Location      |file:/content/ext_db|\n",
            "|Owner         |root                |\n",
            "+--------------+--------------------+\n",
            "\n"
          ]
        }
      ]
    },
    {
      "cell_type": "markdown",
      "source": [
        "# internal table \n",
        "\n",
        "internal table /managed table -- default location (user/hive/warehouse/db/table_name)"
      ],
      "metadata": {
        "id": "9198F5-8qsrS"
      }
    },
    {
      "cell_type": "code",
      "source": [
        "\n",
        "\n",
        "spark.sql(\"create table if not exists student_int(id int ,Name string ,rollno int) \")"
      ],
      "metadata": {
        "colab": {
          "base_uri": "https://localhost:8080/"
        },
        "id": "teqb7fyBLyku",
        "outputId": "a371332a-8808-4675-8068-9c9eeffb1209"
      },
      "execution_count": 14,
      "outputs": [
        {
          "data": {
            "text/plain": [
              "DataFrame[]"
            ]
          },
          "execution_count": 14,
          "metadata": {},
          "output_type": "execute_result"
        }
      ]
    },
    {
      "cell_type": "code",
      "source": [
        "spark.sql(\"insert into student_int values(1,'sandeep',0382)\")"
      ],
      "metadata": {
        "colab": {
          "base_uri": "https://localhost:8080/"
        },
        "id": "zUl8k56wNkNw",
        "outputId": "c0edff23-a218-4673-d182-5df16de10b0b"
      },
      "execution_count": 15,
      "outputs": [
        {
          "data": {
            "text/plain": [
              "DataFrame[]"
            ]
          },
          "execution_count": 15,
          "metadata": {},
          "output_type": "execute_result"
        }
      ]
    },
    {
      "cell_type": "code",
      "source": [
        "spark.sql(\"insert into table student_int values(2,'satish',0561)\")"
      ],
      "metadata": {
        "colab": {
          "base_uri": "https://localhost:8080/"
        },
        "id": "xWSRz3n8vXNP",
        "outputId": "7ea3d8fd-4eb9-4a61-9676-74eeba7c805d"
      },
      "execution_count": 16,
      "outputs": [
        {
          "data": {
            "text/plain": [
              "DataFrame[]"
            ]
          },
          "execution_count": 16,
          "metadata": {},
          "output_type": "execute_result"
        }
      ]
    },
    {
      "cell_type": "code",
      "source": [
        "spark.sql(\"select * from student_int\").show(truncate = False)"
      ],
      "metadata": {
        "colab": {
          "base_uri": "https://localhost:8080/"
        },
        "id": "kukZDZfAO5Fx",
        "outputId": "f79d751a-bcc3-4276-ea43-e03022188dfe"
      },
      "execution_count": 17,
      "outputs": [
        {
          "metadata": {
            "tags": null
          },
          "name": "stdout",
          "output_type": "stream",
          "text": [
            "+---+-------+------+\n",
            "|id |Name   |rollno|\n",
            "+---+-------+------+\n",
            "|2  |satish |561   |\n",
            "|1  |sandeep|382   |\n",
            "+---+-------+------+\n",
            "\n"
          ]
        }
      ]
    },
    {
      "cell_type": "code",
      "source": [
        "spark.sql(\"show create table student_int\").show(truncate = False)"
      ],
      "metadata": {
        "colab": {
          "base_uri": "https://localhost:8080/"
        },
        "id": "0zQh0zrp0Wt5",
        "outputId": "56928403-f193-4c8d-b20f-389d23d4d4a9"
      },
      "execution_count": 18,
      "outputs": [
        {
          "metadata": {
            "tags": null
          },
          "name": "stdout",
          "output_type": "stream",
          "text": [
            "+------------------------------------------------------------------------------------------------------------------------------------------------------+\n",
            "|createtab_stmt                                                                                                                                        |\n",
            "+------------------------------------------------------------------------------------------------------------------------------------------------------+\n",
            "|CREATE TABLE default.student_int (\\n  id INT,\\n  Name STRING,\\n  rollno INT)\\nUSING text\\nTBLPROPERTIES (\\n  'transient_lastDdlTime' = '1678549352')\\n|\n",
            "+------------------------------------------------------------------------------------------------------------------------------------------------------+\n",
            "\n"
          ]
        }
      ]
    },
    {
      "cell_type": "markdown",
      "source": [
        "# External table creation\n",
        "\n",
        "\n",
        "1. can create external table by using location\n",
        "2. can create external table by using external key word location\n",
        "\n"
      ],
      "metadata": {
        "id": "pZdW33UcPWHb"
      }
    },
    {
      "cell_type": "code",
      "source": [
        "spark.sql(\"create table student_ext(id int ,name string ,rollno int) location '/content/External/student_ext'\")"
      ],
      "metadata": {
        "colab": {
          "base_uri": "https://localhost:8080/"
        },
        "id": "pzWEu2oXYIyx",
        "outputId": "baf2b1e7-706c-4c7e-ec05-80bbeec2164e"
      },
      "execution_count": 19,
      "outputs": [
        {
          "data": {
            "text/plain": [
              "DataFrame[]"
            ]
          },
          "execution_count": 19,
          "metadata": {},
          "output_type": "execute_result"
        }
      ]
    },
    {
      "cell_type": "code",
      "source": [
        "spark.sql(\"show tables\").show()"
      ],
      "metadata": {
        "colab": {
          "base_uri": "https://localhost:8080/"
        },
        "id": "O76QDVDrZPsC",
        "outputId": "0f306d0a-538a-4671-b290-dcf95800ef1b"
      },
      "execution_count": 20,
      "outputs": [
        {
          "metadata": {
            "tags": null
          },
          "name": "stdout",
          "output_type": "stream",
          "text": [
            "+---------+-----------+-----------+\n",
            "|namespace|  tableName|isTemporary|\n",
            "+---------+-----------+-----------+\n",
            "|  default|student_ext|      false|\n",
            "|  default|student_int|      false|\n",
            "+---------+-----------+-----------+\n",
            "\n"
          ]
        }
      ]
    },
    {
      "cell_type": "code",
      "source": [
        "spark.sql(\"describe table default.student_ext \").show(truncate = False)"
      ],
      "metadata": {
        "colab": {
          "base_uri": "https://localhost:8080/"
        },
        "id": "xYRMyAmWbxcE",
        "outputId": "ec765978-ab84-4239-d8e2-58096b36e5ff"
      },
      "execution_count": 21,
      "outputs": [
        {
          "metadata": {
            "tags": null
          },
          "name": "stdout",
          "output_type": "stream",
          "text": [
            "+--------+---------+-------+\n",
            "|col_name|data_type|comment|\n",
            "+--------+---------+-------+\n",
            "|id      |int      |null   |\n",
            "|name    |string   |null   |\n",
            "|rollno  |int      |null   |\n",
            "+--------+---------+-------+\n",
            "\n"
          ]
        }
      ]
    },
    {
      "cell_type": "code",
      "source": [
        "spark.sql(\"insert into table student_ext values(1,'sandeep',0382)\")"
      ],
      "metadata": {
        "colab": {
          "base_uri": "https://localhost:8080/"
        },
        "id": "JYAcHsO6uwVI",
        "outputId": "49eaed1b-758b-4d99-98a7-79b31c318697"
      },
      "execution_count": 22,
      "outputs": [
        {
          "data": {
            "text/plain": [
              "DataFrame[]"
            ]
          },
          "execution_count": 22,
          "metadata": {},
          "output_type": "execute_result"
        }
      ]
    },
    {
      "cell_type": "code",
      "source": [
        "spark.sql(\"insert into table student_ext values(2,'satish',0561)\")"
      ],
      "metadata": {
        "colab": {
          "base_uri": "https://localhost:8080/"
        },
        "id": "RNEu_ipbwMhV",
        "outputId": "4b239885-4433-4496-f70f-ae99cc8bbc98"
      },
      "execution_count": 23,
      "outputs": [
        {
          "data": {
            "text/plain": [
              "DataFrame[]"
            ]
          },
          "execution_count": 23,
          "metadata": {},
          "output_type": "execute_result"
        }
      ]
    },
    {
      "cell_type": "code",
      "source": [
        "spark.sql(\"select * from student_ext\").show(truncate = False)"
      ],
      "metadata": {
        "colab": {
          "base_uri": "https://localhost:8080/"
        },
        "id": "mw3Mirp0w2Ur",
        "outputId": "e8289d41-d4ad-4cfd-f7a2-663d09077fac"
      },
      "execution_count": 24,
      "outputs": [
        {
          "metadata": {
            "tags": null
          },
          "name": "stdout",
          "output_type": "stream",
          "text": [
            "+---+-------+------+\n",
            "|id |name   |rollno|\n",
            "+---+-------+------+\n",
            "|1  |sandeep|382   |\n",
            "|2  |satish |561   |\n",
            "+---+-------+------+\n",
            "\n"
          ]
        }
      ]
    },
    {
      "cell_type": "code",
      "source": [
        "spark.sql('show create table student_ext').show(truncate = False)"
      ],
      "metadata": {
        "colab": {
          "base_uri": "https://localhost:8080/"
        },
        "id": "DA0ZniL9yIMh",
        "outputId": "2e65efba-f56b-4e2e-817b-76fdfbf90b00"
      },
      "execution_count": 25,
      "outputs": [
        {
          "metadata": {
            "tags": null
          },
          "name": "stdout",
          "output_type": "stream",
          "text": [
            "+-----------------------------------------------------------------------------------------------------------------------------------------------------------------------------------------------------+\n",
            "|createtab_stmt                                                                                                                                                                                       |\n",
            "+-----------------------------------------------------------------------------------------------------------------------------------------------------------------------------------------------------+\n",
            "|CREATE TABLE default.student_ext (\\n  id INT,\\n  name STRING,\\n  rollno INT)\\nUSING text\\nLOCATION 'file:/content/External/student_ext'\\nTBLPROPERTIES (\\n  'transient_lastDdlTime' = '1678549355')\\n|\n",
            "+-----------------------------------------------------------------------------------------------------------------------------------------------------------------------------------------------------+\n",
            "\n"
          ]
        }
      ]
    },
    {
      "cell_type": "code",
      "source": [
        "spark.sql(\"create external table if not exists family_ext (sno int ,name string ,age int ) location '/content/External/family_ext'\")"
      ],
      "metadata": {
        "colab": {
          "base_uri": "https://localhost:8080/"
        },
        "id": "FldkcukX0mZH",
        "outputId": "1e942d1b-2155-4cdc-fc35-62e0b67f3708"
      },
      "execution_count": 26,
      "outputs": [
        {
          "data": {
            "text/plain": [
              "DataFrame[]"
            ]
          },
          "execution_count": 26,
          "metadata": {},
          "output_type": "execute_result"
        }
      ]
    },
    {
      "cell_type": "code",
      "source": [
        "spark.sql(\"show tables\").show()"
      ],
      "metadata": {
        "colab": {
          "base_uri": "https://localhost:8080/"
        },
        "id": "PIZwoYm_205I",
        "outputId": "b502fdff-c6c0-47bb-a45a-483c212d1b53"
      },
      "execution_count": 27,
      "outputs": [
        {
          "metadata": {
            "tags": null
          },
          "name": "stdout",
          "output_type": "stream",
          "text": [
            "+---------+-----------+-----------+\n",
            "|namespace|  tableName|isTemporary|\n",
            "+---------+-----------+-----------+\n",
            "|  default| family_ext|      false|\n",
            "|  default|student_ext|      false|\n",
            "|  default|student_int|      false|\n",
            "+---------+-----------+-----------+\n",
            "\n"
          ]
        }
      ]
    },
    {
      "cell_type": "code",
      "source": [
        "spark.sql(\"insert into table family_ext values(1,'Krishna',60)\")"
      ],
      "metadata": {
        "colab": {
          "base_uri": "https://localhost:8080/"
        },
        "id": "y8lz8dKL0_zz",
        "outputId": "c5916303-3692-4ba7-f0b2-a788ef730227"
      },
      "execution_count": 28,
      "outputs": [
        {
          "data": {
            "text/plain": [
              "DataFrame[]"
            ]
          },
          "execution_count": 28,
          "metadata": {},
          "output_type": "execute_result"
        }
      ]
    },
    {
      "cell_type": "code",
      "source": [
        "spark.sql('select * from family_ext').show(truncate = False)"
      ],
      "metadata": {
        "colab": {
          "base_uri": "https://localhost:8080/"
        },
        "id": "Mq-EQaij1XZB",
        "outputId": "9e20a7f2-3ae7-4847-9da0-fdef09115e19"
      },
      "execution_count": 29,
      "outputs": [
        {
          "metadata": {
            "tags": null
          },
          "name": "stdout",
          "output_type": "stream",
          "text": [
            "+---+-------+---+\n",
            "|sno|name   |age|\n",
            "+---+-------+---+\n",
            "|1  |Krishna|60 |\n",
            "+---+-------+---+\n",
            "\n"
          ]
        }
      ]
    },
    {
      "cell_type": "code",
      "source": [
        "spark.sql('show create table family_ext').show(truncate = False)"
      ],
      "metadata": {
        "colab": {
          "base_uri": "https://localhost:8080/"
        },
        "id": "LiqVYPtx1kK8",
        "outputId": "b29f4b58-e9cd-4f40-cb20-6c70ac6bac71"
      },
      "execution_count": 30,
      "outputs": [
        {
          "metadata": {
            "tags": null
          },
          "name": "stdout",
          "output_type": "stream",
          "text": [
            "+-------------------------------------------------------------------------------------------------------------------------------------------------------------------------------------------------+\n",
            "|createtab_stmt                                                                                                                                                                                   |\n",
            "+-------------------------------------------------------------------------------------------------------------------------------------------------------------------------------------------------+\n",
            "|CREATE TABLE default.family_ext (\\n  sno INT,\\n  name STRING,\\n  age INT)\\nUSING text\\nLOCATION 'file:/content/External/family_ext'\\nTBLPROPERTIES (\\n  'transient_lastDdlTime' = '1678549357')\\n|\n",
            "+-------------------------------------------------------------------------------------------------------------------------------------------------------------------------------------------------+\n",
            "\n"
          ]
        }
      ]
    },
    {
      "cell_type": "markdown",
      "source": [
        "# Difference between internal and external table\n",
        "\n",
        "if we drop internal table both table meta data and data will be deleted (/content/hive-warehouse)\n",
        "\n",
        "if we drop External table only table meta data dropped ,data will remain in external location (/content/External)"
      ],
      "metadata": {
        "id": "4HyIuqUu4qo7"
      }
    },
    {
      "cell_type": "code",
      "source": [
        "spark.sql('drop table student_int')"
      ],
      "metadata": {
        "colab": {
          "base_uri": "https://localhost:8080/"
        },
        "id": "D3pDscM_4xbj",
        "outputId": "4341955e-f0a0-4ed8-f6a4-c4924ca3c4dd"
      },
      "execution_count": 31,
      "outputs": [
        {
          "data": {
            "text/plain": [
              "DataFrame[]"
            ]
          },
          "execution_count": 31,
          "metadata": {},
          "output_type": "execute_result"
        }
      ]
    },
    {
      "cell_type": "code",
      "source": [
        "spark.sql('drop table student_ext')"
      ],
      "metadata": {
        "colab": {
          "base_uri": "https://localhost:8080/"
        },
        "id": "L7je1tuA49ct",
        "outputId": "9655cc80-53cd-4c17-cba8-f2e5e195b0ff"
      },
      "execution_count": 32,
      "outputs": [
        {
          "data": {
            "text/plain": [
              "DataFrame[]"
            ]
          },
          "execution_count": 32,
          "metadata": {},
          "output_type": "execute_result"
        }
      ]
    },
    {
      "cell_type": "markdown",
      "source": [
        "# Creating Views\n",
        "\n",
        "View : window of a table or query , view does not store any data.\n",
        "\n",
        "types of views:\n",
        "\n",
        "1.global temporary view\n",
        "2.temporary view"
      ],
      "metadata": {
        "id": "RmWjMS7IS1Ct"
      }
    },
    {
      "cell_type": "code",
      "source": [
        "spark.sql(\"create external table test3.emp(id int,fname string,lname string,salary int,exp int) location '/content/External/emp'\")"
      ],
      "metadata": {
        "colab": {
          "base_uri": "https://localhost:8080/"
        },
        "id": "_HZKfQ3XUQdz",
        "outputId": "b7484287-9f08-45b6-ccdb-5d30e9b4831f"
      },
      "execution_count": 46,
      "outputs": [
        {
          "output_type": "execute_result",
          "data": {
            "text/plain": [
              "DataFrame[]"
            ]
          },
          "metadata": {},
          "execution_count": 46
        }
      ]
    },
    {
      "cell_type": "code",
      "source": [
        "spark.sql(\"insert into test3.emp(id,fname,lname,salary,exp) values(1,'Satish','Nookala',100000,7)\")\n",
        "spark.sql(\"insert into test3.emp(id,fname,lname,salary,exp) values(2,'Sandeep','Nookala',50000,4)\")\n",
        "spark.sql(\"insert into test3.emp(id,fname,lname,salary,exp) values(3,'krishna','Nookala',10000,2)\")\n",
        "spark.sql(\"insert into test3.emp(id,fname,lname,salary,exp) values(4,'padma','Nookala',1000,2)\")\n",
        "spark.sql(\"insert into test3.emp(id,fname,lname,salary,exp) values(5,'anusha','Nookala',100,1)\")\n",
        "spark.sql(\"insert into test3.emp(id,fname,lname,salary,exp) values(6,'swathi','Nookala',10,0)\")"
      ],
      "metadata": {
        "colab": {
          "base_uri": "https://localhost:8080/"
        },
        "id": "luJgMQ5PXawY",
        "outputId": "54573644-10fb-4d67-b082-62541ee50614"
      },
      "execution_count": 47,
      "outputs": [
        {
          "output_type": "execute_result",
          "data": {
            "text/plain": [
              "DataFrame[]"
            ]
          },
          "metadata": {},
          "execution_count": 47
        }
      ]
    },
    {
      "cell_type": "code",
      "source": [
        "spark.sql('select * from test3.emp').show()"
      ],
      "metadata": {
        "colab": {
          "base_uri": "https://localhost:8080/"
        },
        "id": "Jw-gW8fSYeqN",
        "outputId": "048970df-6707-4c3c-e274-a1b9c25147dd"
      },
      "execution_count": 48,
      "outputs": [
        {
          "output_type": "stream",
          "name": "stdout",
          "text": [
            "+---+-------+-------+------+---+\n",
            "| id|  fname|  lname|salary|exp|\n",
            "+---+-------+-------+------+---+\n",
            "|  4|  padma|Nookala|  1000|  2|\n",
            "|  2|Sandeep|Nookala| 50000|  4|\n",
            "|  1| Satish|Nookala|100000|  7|\n",
            "|  6| swathi|Nookala|   100|  0|\n",
            "|  3|krishna|Nookala| 10000|  2|\n",
            "|  5| anusha|Nookala|   100|  1|\n",
            "+---+-------+-------+------+---+\n",
            "\n"
          ]
        }
      ]
    },
    {
      "cell_type": "code",
      "source": [
        "spark.sql('select * from test3.emp order by id').show()"
      ],
      "metadata": {
        "colab": {
          "base_uri": "https://localhost:8080/"
        },
        "id": "hH4SA2xPYo9O",
        "outputId": "bb9764c3-22a0-4546-e348-1ef31a8bb542"
      },
      "execution_count": 49,
      "outputs": [
        {
          "output_type": "stream",
          "name": "stdout",
          "text": [
            "+---+-------+-------+------+---+\n",
            "| id|  fname|  lname|salary|exp|\n",
            "+---+-------+-------+------+---+\n",
            "|  1| Satish|Nookala|100000|  7|\n",
            "|  2|Sandeep|Nookala| 50000|  4|\n",
            "|  3|krishna|Nookala| 10000|  2|\n",
            "|  4|  padma|Nookala|  1000|  2|\n",
            "|  5| anusha|Nookala|   100|  1|\n",
            "|  6| swathi|Nookala|   100|  0|\n",
            "+---+-------+-------+------+---+\n",
            "\n"
          ]
        }
      ]
    },
    {
      "cell_type": "code",
      "source": [
        "# create or replce view from select query\n",
        "spark.sql('create or replace view emp_view_id as select * from test3.emp order by id')"
      ],
      "metadata": {
        "colab": {
          "base_uri": "https://localhost:8080/"
        },
        "id": "jK60R2AFdRTP",
        "outputId": "00213bb2-1c16-4aad-a7d3-51187327c97c"
      },
      "execution_count": 58,
      "outputs": [
        {
          "output_type": "execute_result",
          "data": {
            "text/plain": [
              "DataFrame[]"
            ]
          },
          "metadata": {},
          "execution_count": 58
        }
      ]
    },
    {
      "cell_type": "code",
      "source": [
        "# create or replce view from select query\n",
        "\n",
        "spark.sql('create or replace view emp_view_salary as select * from test3.emp order by salary desc')\n"
      ],
      "metadata": {
        "colab": {
          "base_uri": "https://localhost:8080/"
        },
        "id": "ppmI_ohObNYp",
        "outputId": "c39ee4cb-9498-430d-ea4c-2686f5155260"
      },
      "execution_count": 61,
      "outputs": [
        {
          "output_type": "execute_result",
          "data": {
            "text/plain": [
              "DataFrame[]"
            ]
          },
          "metadata": {},
          "execution_count": 61
        }
      ]
    },
    {
      "cell_type": "code",
      "source": [
        "spark.sql('select * from emp_view_salary').show(truncate = False)"
      ],
      "metadata": {
        "colab": {
          "base_uri": "https://localhost:8080/"
        },
        "id": "7zkt-gM3b1Mi",
        "outputId": "3f8a8dce-0399-487e-eb8e-eeee0dac953b"
      },
      "execution_count": 62,
      "outputs": [
        {
          "output_type": "stream",
          "name": "stdout",
          "text": [
            "+---+-------+-------+------+---+\n",
            "|id |fname  |lname  |salary|exp|\n",
            "+---+-------+-------+------+---+\n",
            "|1  |Satish |Nookala|100000|7  |\n",
            "|2  |Sandeep|Nookala|50000 |4  |\n",
            "|3  |krishna|Nookala|10000 |2  |\n",
            "|4  |padma  |Nookala|1000  |2  |\n",
            "|6  |swathi |Nookala|100   |0  |\n",
            "|5  |anusha |Nookala|100   |1  |\n",
            "+---+-------+-------+------+---+\n",
            "\n"
          ]
        }
      ]
    },
    {
      "cell_type": "code",
      "source": [
        "spark.sql('select * from emp_view_id').show(truncate = False)"
      ],
      "metadata": {
        "colab": {
          "base_uri": "https://localhost:8080/"
        },
        "id": "E1FjuTowdwII",
        "outputId": "9680cc3d-4e3a-41a9-d116-6023dba8a3e7"
      },
      "execution_count": 63,
      "outputs": [
        {
          "output_type": "stream",
          "name": "stdout",
          "text": [
            "+---+-------+-------+------+---+\n",
            "|id |fname  |lname  |salary|exp|\n",
            "+---+-------+-------+------+---+\n",
            "|1  |Satish |Nookala|100000|7  |\n",
            "|2  |Sandeep|Nookala|50000 |4  |\n",
            "|3  |krishna|Nookala|10000 |2  |\n",
            "|4  |padma  |Nookala|1000  |2  |\n",
            "|5  |anusha |Nookala|100   |1  |\n",
            "|6  |swathi |Nookala|100   |0  |\n",
            "+---+-------+-------+------+---+\n",
            "\n"
          ]
        }
      ]
    },
    {
      "cell_type": "code",
      "source": [
        "# DL of view\n",
        "spark.sql('show create table emp_view_salary').show(truncate = False)"
      ],
      "metadata": {
        "colab": {
          "base_uri": "https://localhost:8080/"
        },
        "id": "s6R_ChLdciT5",
        "outputId": "26406002-4efa-47fb-ed1c-a3a7bf16aedf"
      },
      "execution_count": 64,
      "outputs": [
        {
          "output_type": "stream",
          "name": "stdout",
          "text": [
            "+--------------------------------------------------------------------------------------------------------------------------------------------------------------------------------------------------+\n",
            "|createtab_stmt                                                                                                                                                                                    |\n",
            "+--------------------------------------------------------------------------------------------------------------------------------------------------------------------------------------------------+\n",
            "|CREATE VIEW default.emp_view_salary (\\n  id,\\n  fname,\\n  lname,\\n  salary,\\n  exp)\\nTBLPROPERTIES (\\n  'transient_lastDdlTime' = '1678551453')\\nAS select * from test3.emp order by salary desc\\n|\n",
            "+--------------------------------------------------------------------------------------------------------------------------------------------------------------------------------------------------+\n",
            "\n"
          ]
        }
      ]
    },
    {
      "cell_type": "code",
      "source": [],
      "metadata": {
        "id": "xvdv5JU5cubP"
      },
      "execution_count": null,
      "outputs": []
    }
  ]
}